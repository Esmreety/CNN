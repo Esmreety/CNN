{
  "nbformat": 4,
  "nbformat_minor": 0,
  "metadata": {
    "colab": {
      "name": "Implementing CNN using Keras.ipynb",
      "provenance": [],
      "collapsed_sections": [],
      "authorship_tag": "ABX9TyPx1+vw0uRSxHpDqH2YDvyq",
      "include_colab_link": true
    },
    "kernelspec": {
      "name": "python3",
      "display_name": "Python 3"
    }
  },
  "cells": [
    {
      "cell_type": "markdown",
      "metadata": {
        "id": "view-in-github",
        "colab_type": "text"
      },
      "source": [
        "<a href=\"https://colab.research.google.com/github/Esmreety/CNN/blob/master/Implementing_CNN_using_Keras.ipynb\" target=\"_parent\"><img src=\"https://colab.research.google.com/assets/colab-badge.svg\" alt=\"Open In Colab\"/></a>"
      ]
    },
    {
      "cell_type": "code",
      "metadata": {
        "id": "29UenS7WrqHn",
        "colab_type": "code",
        "colab": {
          "base_uri": "https://localhost:8080/",
          "height": 34
        },
        "outputId": "c781de44-d41c-4c08-891a-574105812ab6"
      },
      "source": [
        "import tensorflow as tf\n",
        "from tensorflow import keras\n",
        "from keras.models import Sequential\n",
        "from keras.layers import Dense, Conv2D, Dropout, Flatten, MaxPooling2D\n",
        "import matplotlib.pyplot as plt"
      ],
      "execution_count": 1,
      "outputs": [
        {
          "output_type": "stream",
          "text": [
            "Using TensorFlow backend.\n"
          ],
          "name": "stderr"
        }
      ]
    },
    {
      "cell_type": "code",
      "metadata": {
        "id": "Ly0ZJLTZrsJj",
        "colab_type": "code",
        "colab": {
          "base_uri": "https://localhost:8080/",
          "height": 421
        },
        "outputId": "ce105a28-4020-44eb-f621-d4783aaec984"
      },
      "source": [
        " mnist = keras.datasets.fashion_mnist\n",
        " (x_train, y_train),(x_test, y_test)  = mnist.load_data()\n",
        " index = 8888\n",
        " print(y_train[index])\n",
        " plt.imshow(x_train[index], cmap = 'Greys')\n",
        " plt.show()\n",
        " "
      ],
      "execution_count": 2,
      "outputs": [
        {
          "output_type": "stream",
          "text": [
            "Downloading data from https://storage.googleapis.com/tensorflow/tf-keras-datasets/train-labels-idx1-ubyte.gz\n",
            "32768/29515 [=================================] - 0s 0us/step\n",
            "Downloading data from https://storage.googleapis.com/tensorflow/tf-keras-datasets/train-images-idx3-ubyte.gz\n",
            "26427392/26421880 [==============================] - 0s 0us/step\n",
            "Downloading data from https://storage.googleapis.com/tensorflow/tf-keras-datasets/t10k-labels-idx1-ubyte.gz\n",
            "8192/5148 [===============================================] - 0s 0us/step\n",
            "Downloading data from https://storage.googleapis.com/tensorflow/tf-keras-datasets/t10k-images-idx3-ubyte.gz\n",
            "4423680/4422102 [==============================] - 0s 0us/step\n",
            "6\n"
          ],
          "name": "stdout"
        },
        {
          "output_type": "display_data",
          "data": {
            "image/png": "[encoded data removed]",
            "text/plain": [
              "<Figure size 432x288 with 1 Axes>"
            ]
          },
          "metadata": {
            "tags": [],
            "needs_background": "light"
          }
        }
      ]
    },
    {
      "cell_type": "code",
      "metadata": {
        "id": "4SeIgdR9emuZ",
        "colab_type": "code",
        "colab": {}
      },
      "source": [
        "# Reshaping the array to 4-dims\n",
        "x_train = x_train.reshape(x_train.shape[0], 28, 28, 1)\n",
        "x_test = x_test.reshape(x_test.shape[0], 28, 28, 1)\n",
        "input_shape = (28, 28, 1)"
      ],
      "execution_count": 0,
      "outputs": []
    },
    {
      "cell_type": "code",
      "metadata": {
        "colab_type": "code",
        "id": "FuVwVFpRsL3l",
        "colab": {}
      },
      "source": [
        "x_train = x_train.astype('float32')\n",
        "x_test = x_test.astype('float32')\n"
      ],
      "execution_count": 0,
      "outputs": []
    },
    {
      "cell_type": "code",
      "metadata": {
        "colab_type": "code",
        "id": "9ihbJfrPsJtm",
        "colab": {}
      },
      "source": [
        "#normalizing\n",
        "x_train = x_train / 255.0\n",
        "x_test = x_test / 255.0"
      ],
      "execution_count": 0,
      "outputs": []
    },
    {
      "cell_type": "code",
      "metadata": {
        "id": "CeDkAKQSfX6S",
        "colab_type": "code",
        "colab": {
          "base_uri": "https://localhost:8080/",
          "height": 86
        },
        "outputId": "d67ca8cd-03d3-42ee-d1aa-1b683e722086"
      },
      "source": [
        "print('x_train shape is:', x_train.shape)\n",
        "print('x_test shape is:', x_test.shape)\n",
        "print('no of images in x_train is:', x_train.shape[0])\n",
        "print('no of images in x_test is:', x_test.shape[0])"
      ],
      "execution_count": 7,
      "outputs": [
        {
          "output_type": "stream",
          "text": [
            "x_train shape is: (60000, 28, 28, 1)\n",
            "x_test shape is: (10000, 28, 28, 1)\n",
            "no of images in x_train is: 60000\n",
            "no of images in x_test is: 10000\n"
          ],
          "name": "stdout"
        }
      ]
    },
    {
      "cell_type": "code",
      "metadata": {
        "id": "V6NkTUXGscgU",
        "colab_type": "code",
        "colab": {}
      },
      "source": [
        "#Creating sequential model and adding layers\n",
        "model = Sequential()\n",
        "model.add(Conv2D(32, kernel_size = (5,5), input_shape = input_shape))\n",
        "model.add(MaxPooling2D(pool_size = (2,2)))\n",
        "model.add(Conv2D(64, kernel_size = (5,5), input_shape = input_shape))\n",
        "model.add(MaxPooling2D(pool_size = (2,2)))\n",
        "model.add(Flatten()) #flattening 2d matrix data to 1d vector before building fully connected layer\n",
        "model.add(Dense(1024, activation = tf.nn.relu))\n",
        "model.add(Dropout(0.2))\n",
        "model.add(Dense(10, activation = tf.nn.softmax))"
      ],
      "execution_count": 0,
      "outputs": []
    },
    {
      "cell_type": "code",
      "metadata": {
        "id": "vpvIUjh_sg9j",
        "colab_type": "code",
        "colab": {
          "base_uri": "https://localhost:8080/",
          "height": 781
        },
        "outputId": "3b0a7588-6449-41e7-831c-61f44854a3b2"
      },
      "source": [
        "model.compile(optimizer = 'adam', loss = 'sparse_categorical_crossentropy', metrics = ['accuracy'])\n",
        "model.fit(x_train, y_train, epochs = 10)\n",
        "model.summary()"
      ],
      "execution_count": 10,
      "outputs": [
        {
          "output_type": "stream",
          "text": [
            "Epoch 1/10\n",
            "60000/60000 [==============================] - 86s 1ms/step - loss: 0.1070 - accuracy: 0.9630\n",
            "Epoch 2/10\n",
            "60000/60000 [==============================] - 86s 1ms/step - loss: 0.0929 - accuracy: 0.9682\n",
            "Epoch 3/10\n",
            "60000/60000 [==============================] - 86s 1ms/step - loss: 0.0882 - accuracy: 0.9694\n",
            "Epoch 4/10\n",
            "60000/60000 [==============================] - 86s 1ms/step - loss: 0.0804 - accuracy: 0.9719\n",
            "Epoch 5/10\n",
            "60000/60000 [==============================] - 87s 1ms/step - loss: 0.0796 - accuracy: 0.9735\n",
            "Epoch 6/10\n",
            "60000/60000 [==============================] - 86s 1ms/step - loss: 0.0779 - accuracy: 0.9742\n",
            "Epoch 7/10\n",
            "60000/60000 [==============================] - 86s 1ms/step - loss: 0.0739 - accuracy: 0.9755\n",
            "Epoch 8/10\n",
            "60000/60000 [==============================] - 91s 2ms/step - loss: 0.0805 - accuracy: 0.9744\n",
            "Epoch 9/10\n",
            "60000/60000 [==============================] - 87s 1ms/step - loss: 0.0743 - accuracy: 0.9769\n",
            "Epoch 10/10\n",
            "60000/60000 [==============================] - 87s 1ms/step - loss: 0.0745 - accuracy: 0.9766\n",
            "Model: \"sequential_1\"\n",
            "_________________________________________________________________\n",
            "Layer (type)                 Output Shape              Param #   \n",
            "=================================================================\n",
            "conv2d_1 (Conv2D)            (None, 24, 24, 32)        832       \n",
            "_________________________________________________________________\n",
            "max_pooling2d_1 (MaxPooling2 (None, 12, 12, 32)        0         \n",
            "_________________________________________________________________\n",
            "conv2d_2 (Conv2D)            (None, 8, 8, 64)          51264     \n",
            "_________________________________________________________________\n",
            "max_pooling2d_2 (MaxPooling2 (None, 4, 4, 64)          0         \n",
            "_________________________________________________________________\n",
            "flatten_1 (Flatten)          (None, 1024)              0         \n",
            "_________________________________________________________________\n",
            "dense_1 (Dense)              (None, 1024)              1049600   \n",
            "_________________________________________________________________\n",
            "dropout_1 (Dropout)          (None, 1024)              0         \n",
            "_________________________________________________________________\n",
            "dense_2 (Dense)              (None, 10)                10250     \n",
            "=================================================================\n",
            "Total params: 1,111,946\n",
            "Trainable params: 1,111,946\n",
            "Non-trainable params: 0\n",
            "_________________________________________________________________\n"
          ],
          "name": "stdout"
        }
      ]
    },
    {
      "cell_type": "code",
      "metadata": {
        "id": "Y8BihrWrsmn-",
        "colab_type": "code",
        "colab": {
          "base_uri": "https://localhost:8080/",
          "height": 86
        },
        "outputId": "b087af97-e184-48e1-ecdb-85054e72ac7b"
      },
      "source": [
        "x = model.evaluate(x_test, y_test)\n",
        "print(x)\n",
        "print('loss:', x[0])\n",
        "print('Accuracy:', x[1])"
      ],
      "execution_count": 14,
      "outputs": [
        {
          "output_type": "stream",
          "text": [
            "10000/10000 [==============================] - 3s 321us/step\n",
            "[0.6542292178148403, 0.9021999835968018]\n",
            "loss: 0.6542292178148403\n",
            "Accuracy: 0.9021999835968018\n"
          ],
          "name": "stdout"
        }
      ]
    },
    {
      "cell_type": "code",
      "metadata": {
        "id": "k3lKf8mZzafL",
        "colab_type": "code",
        "colab": {}
      },
      "source": [
        ""
      ],
      "execution_count": 0,
      "outputs": []
    }
  ]
}